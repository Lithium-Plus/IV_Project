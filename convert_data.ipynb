{
 "cells": [
  {
   "cell_type": "code",
   "execution_count": 9,
   "metadata": {},
   "outputs": [],
   "source": [
    "import csv\n",
    "import os\n",
    "import pandas as pd\n",
    "# here = os.path.dirname(os.path.abspath(__file__))\n",
    "\n",
    "# filename = os.path.join(here, \"City_Grid_data.csv\")\n",
    "df = pd.read_csv(\"City_Grid_data.csv\")\n",
    "# df['the_geom'] = df['the_geom'].str.replace('MULTIPOLYGON (((','')\n",
    "# print(type(df['the_geom'][0]))\n",
    "df.the_geom = df.the_geom.replace({'MULTIPOLYGON \\(\\(\\(':''}, regex=True)\n",
    "df.the_geom = df.the_geom.replace({'\\)\\)\\)':''}, regex=True)"
   ]
  },
  {
   "cell_type": "code",
   "execution_count": 12,
   "metadata": {},
   "outputs": [],
   "source": [
    "df.to_csv(\"City_Grid_data.csv\")"
   ]
  },
  {
   "cell_type": "code",
   "execution_count": null,
   "metadata": {},
   "outputs": [],
   "source": []
  }
 ],
 "metadata": {
  "kernelspec": {
   "display_name": "Python 3",
   "language": "python",
   "name": "python3"
  },
  "language_info": {
   "codemirror_mode": {
    "name": "ipython",
    "version": 3
   },
   "file_extension": ".py",
   "mimetype": "text/x-python",
   "name": "python",
   "nbconvert_exporter": "python",
   "pygments_lexer": "ipython3",
   "version": "3.7.1"
  }
 },
 "nbformat": 4,
 "nbformat_minor": 2
}
